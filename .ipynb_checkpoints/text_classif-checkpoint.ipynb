{
 "cells": [
  {
   "cell_type": "markdown",
   "metadata": {},
   "source": [
    "# Classification des documents du procès des groupes américains du tabac"
   ]
  },
  {
   "cell_type": "code",
   "execution_count": 3,
   "metadata": {},
   "outputs": [],
   "source": [
    "#Listes des imports\n",
    "import pandas as pd\n",
    "import numpy as np\n",
    "from sklearn.model_selection import train_test_split\n",
    "from sklearn.feature_extraction.text import CountVectorizer, TfidfTransformer\n",
    "from sklearn import preprocessing\n",
    "import seaborn as sns"
   ]
  },
  {
   "cell_type": "markdown",
   "metadata": {},
   "source": [
    "## 1- Analyse  des données"
   ]
  },
  {
   "cell_type": "code",
   "execution_count": 4,
   "metadata": {},
   "outputs": [
    {
     "name": "stdout",
     "output_type": "stream",
     "text": [
      "                       img_path          label\n",
      "0  Advertisement/0000136188.jpg  Advertisement\n",
      "1  Advertisement/0000435350.jpg  Advertisement\n",
      "2  Advertisement/0000556056.jpg  Advertisement\n",
      "3  Advertisement/0030048095.jpg  Advertisement\n",
      "4  Advertisement/0030048989.jpg  Advertisement\n",
      "5  Advertisement/0030049569.jpg  Advertisement\n",
      "6    Advertisement/03496270.jpg  Advertisement\n",
      "7    Advertisement/03567810.jpg  Advertisement\n",
      "8    Advertisement/03722789.jpg  Advertisement\n",
      "9    Advertisement/04102204.jpg  Advertisement\n"
     ]
    }
   ],
   "source": [
    "# Chargement du fichier text (affichage des 10 premier résultats)\n",
    "df=pd.read_csv(\"data/tobacco-lab_data_Tobacco3482.csv\") \n",
    "print(df[:10])"
   ]
  },
  {
   "cell_type": "markdown",
   "metadata": {},
   "source": [
    "Le fichier contient le pas vers l'image à associer dans la colonne *\"img_path\"* et sa classe dans la colonne *\"label\"*."
   ]
  },
  {
   "cell_type": "code",
   "execution_count": 5,
   "metadata": {
    "scrolled": true
   },
   "outputs": [
    {
     "name": "stdout",
     "output_type": "stream",
     "text": [
      "number of data : 3482\n"
     ]
    },
    {
     "data": {
      "image/png": "[encoded data removed]",
      "text/plain": [
       "<Figure size 432x288 with 1 Axes>"
      ]
     },
     "metadata": {
      "needs_background": "light"
     },
     "output_type": "display_data"
    }
   ],
   "source": [
    "# Plot the statistics of each label\n",
    "sns.countplot(data=df,y='label')\n",
    "print('number of data :', df.shape[0])"
   ]
  },
  {
   "cell_type": "markdown",
   "metadata": {},
   "source": [
    "Le dataset contient 3482 images correspondant à des fichiers text collectés, séparés en 10 classe correspondantes respectivement à :\n",
    "\n",
    "- Advertissement\n",
    "- Email\n",
    "- Form\n",
    "- Letter\n",
    "- Memo\n",
    "- News\n",
    "- Note\n",
    "- Report\n",
    "- Resume\n",
    "- Scientic\n",
    "\n",
    "Ci-dessus l'on peut observer un graphique qui indique la proportion de chaque classe dans le dataset."
   ]
  },
  {
   "cell_type": "code",
   "execution_count": 6,
   "metadata": {},
   "outputs": [],
   "source": [
    "# accéder au text\n",
    "path='data/Tobacco3482-OCR/'+str(df.img_path[0][:-3])+'txt'\n",
    "\n",
    "# Extraction du texte\n",
    "with open(path) as myfile:\n",
    "    content = myfile.readlines()"
   ]
  },
  {
   "cell_type": "code",
   "execution_count": 7,
   "metadata": {},
   "outputs": [
    {
     "name": "stdout",
     "output_type": "stream",
     "text": [
      "['A Mpertant as yar', 'sesiye teaetered cabiieess. Baely', '', 'doesn’) keow bea te', 'Bitton Aau-Fotne bl resin syste. Cant', '', 'viduiiliy crafted. Parenter', 'tiott, Most eapennese liste rn siichinng', '', 'Holimars. Costlicr of course', '', '      ', '  ', ' ', '', '“Has Oetenined -', '', 'Wainy: Thy', 'ie Hoel? h.', '', 'That Cia', '', 'Marg a Féme awe ii na eager ref Hizon a ol', '', ' ', '', ' ', '', 'Ra a', '', '6P9S70099']\n",
      "['Advertisement' 'Email' 'Form' 'Letter' 'Memo' 'News' 'Note' 'Report'\n",
      " 'Resume' 'Scientific']\n"
     ]
    }
   ],
   "source": [
    "# On extrait le texte des fichiers et l'on stocke chaque texte dans une liste text\n",
    "# On stocke les label de chaque text dans une liste label\n",
    "label=[]\n",
    "text=[]\n",
    "for i in range(df.shape[0]):\n",
    "    path=path='data/Tobacco3482-OCR/'+str(df.img_path[i][:-3])+'txt'\n",
    "    with open(path) as myfile:\n",
    "        content = myfile.readlines()\n",
    "        for j,e in enumerate(content):\n",
    "            #retrait des /n pour une meilleurs lisibilité et augmente les performances\n",
    "            content[j]=e.rstrip(\"\\n\")\n",
    "    text.append(content)\n",
    "    label.append(df.label[i])\n",
    "print(text[0])\n",
    "print(np.unique(label))"
   ]
  },
  {
   "cell_type": "code",
   "execution_count": 8,
   "metadata": {},
   "outputs": [
    {
     "name": "stdout",
     "output_type": "stream",
     "text": [
      "                                                text          label\n",
      "0  [A Mpertant as yar, sesiye teaetered cabiieess...  Advertisement\n",
      "1  [TE che fitm, , m66400 7127, , KOOLS are the o...  Advertisement\n",
      "2  [so ARN Rr nr, , BWR Ga ||, , Vending Operator...  Advertisement\n",
      "3  [MARCH 24,19 VO — 3. Tersrearep, ,  , , ‘ yi i...  Advertisement\n",
      "4  [~, , Spend a milder moment qs, with Raleigh.,...  Advertisement\n",
      "5  [SR Onrel ules cee, Nee dss, , The one tales W...  Advertisement\n",
      "6  [&, BR. :, er non, , be 4, op Re eo eee ee eee...  Advertisement\n",
      "7  [{ae} BUIseaUT OY |, --uoanyf{sanosdun |., LIY...  Advertisement\n",
      "8  [. “So that’s he, any newspapel, “That's how,,...  Advertisement\n",
      "9  [BROWN & “WILLIAM ON:, , ;, mY To Man, , Marfa...  Advertisement\n",
      "(3482, 2)\n"
     ]
    }
   ],
   "source": [
    "# création d'un dataframe contenant chaque test et les labels associés\n",
    "cont=pd.DataFrame({'text':text, 'label':label})\n",
    "print(cont[:10])\n",
    "print(cont.shape)"
   ]
  },
  {
   "cell_type": "code",
   "execution_count": 9,
   "metadata": {},
   "outputs": [
    {
     "name": "stdout",
     "output_type": "stream",
     "text": [
      "                                                text          label\n",
      "0  A Mpertant as yar sesiye teaetered cabiieess. ...  Advertisement\n",
      "1  TE che fitm  m66400 7127  KOOLS are the only c...  Advertisement\n",
      "2  so ARN Rr nr  BWR Ga ||  Vending Operators    ...  Advertisement\n",
      "3  MARCH 24,19 VO — 3. Tersrearep     ‘ yi ills :...  Advertisement\n",
      "4  ~  Spend a milder moment qs with Raleigh.  = A...  Advertisement\n"
     ]
    }
   ],
   "source": [
    "# Texte ci-dessus stocker sous forme de séquences de mots\n",
    "# faire de text un text et non une sequence de mot\n",
    "cont['text']=[\" \".join(text) for text in cont['text'].values]\n",
    "print(cont[:5])"
   ]
  },
  {
   "cell_type": "markdown",
   "metadata": {},
   "source": [
    "## 2- Traitement des données"
   ]
  },
  {
   "cell_type": "markdown",
   "metadata": {},
   "source": [
    "### 2-1 Transformation en sac de mots"
   ]
  },
  {
   "cell_type": "code",
   "execution_count": 10,
   "metadata": {},
   "outputs": [],
   "source": [
    "#Séparation des données en ensemble de test et d'apprentissage\n",
    "X_train,X_test, y_train,y_test = train_test_split(cont.text, cont.label, test_size=0.20, \n",
    "                                                random_state=42)\n",
    "\n",
    "print(y_train[:10])"
   ]
  },
  {
   "cell_type": "markdown",
   "metadata": {},
   "source": [
    "On ne possède pas une enorme quantité de données (~3000) donc on choisit de prendre 20% des données pour former l'ensemble de test (voir cellule ci-dessus)."
   ]
  },
  {
   "cell_type": "code",
   "execution_count": 11,
   "metadata": {},
   "outputs": [
    {
     "name": "stdout",
     "output_type": "stream",
     "text": [
      "nb exemple apprentissage : (2785,)\n",
      "nb exemple de test: (697,)\n"
     ]
    }
   ],
   "source": [
    "print('nb exemple apprentissage :' ,X_train.shape)\n",
    "print('nb exemple de test:', X_test.shape)\n"
   ]
  },
  {
   "cell_type": "markdown",
   "metadata": {},
   "source": [
    "Après avoir séparé les différents ensemble on transforme nos texte en vecteur qui pourront être analyser/calculer par les modèles.\n",
    "\n",
    "Pour réaliser cela on utilise la méthode **_CountVectorizer_** de **sklearn**. Cette méthode effectue la convertion d'une collection de document texte en une matrice qui renvoie le nombre d'occurence de chaque symbole (du dico associé) pour chaque texte. On a fixe le nombre de paramètres des matrices à 3000."
   ]
  },
  {
   "cell_type": "code",
   "execution_count": 12,
   "metadata": {},
   "outputs": [
    {
     "name": "stdout",
     "output_type": "stream",
     "text": [
      "(697, 3000)\n"
     ]
    }
   ],
   "source": [
    "# Vectorisation\n",
    "vectorizer = CountVectorizer(max_features=3000)\n",
    "vectorizer.fit(X_train)\n",
    "X_train_vect = vectorizer.transform(X_train)\n",
    "X_test_vect= vectorizer.transform(X_test)\n",
    "\n",
    "print(X_test_vect.shape)"
   ]
  },
  {
   "cell_type": "markdown",
   "metadata": {},
   "source": [
    "### 2.2 Représentation tf idf "
   ]
  },
  {
   "cell_type": "markdown",
   "metadata": {},
   "source": [
    "On réalise une transformation **_tf-idf_** sur les collection.\n",
    "\n",
    "La transformation **tf** correspond à calculer la fréquence de chaque mots (nombre d'occurence du mot/ sur le nombre total de mots) et on prend l'inverse, la **_tf-idf_** qui nous permet d'associer des poids qui permettrons de différencier les mot-clés des mots de liason ou pronom...etc (que l'on retouve avec de grande fréquences dans tous les documents car ils correspondent à la syntaxes de la langue mais n'apporte pas d'informations). "
   ]
  },
  {
   "cell_type": "code",
   "execution_count": 13,
   "metadata": {},
   "outputs": [],
   "source": [
    "# Représentation TF_IDF\n",
    "tf_transformer = TfidfTransformer().fit(X_train_vect)\n",
    "\n",
    "# transformation tf-idf des ensemble train, dev et test\n",
    "X_train_tf = tf_transformer.transform(X_train_vect)\n",
    "X_test_tf = tf_transformer.transform(X_test_vect)\n"
   ]
  },
  {
   "cell_type": "markdown",
   "metadata": {},
   "source": [
    "## 3- Classification"
   ]
  },
  {
   "cell_type": "markdown",
   "metadata": {},
   "source": [
    "### 3-1 Classifieur naives bayes"
   ]
  },
  {
   "cell_type": "code",
   "execution_count": 14,
   "metadata": {},
   "outputs": [
    {
     "name": "stdout",
     "output_type": "stream",
     "text": [
      "Les préscion obtenus sont : \n",
      "données test précision: 0.7302725968436155\n"
     ]
    }
   ],
   "source": [
    "# Entrainement avec un classifieur naif multinomial\n",
    "# train a Naive Bayes classifier\n",
    "from sklearn.naive_bayes import MultinomialNB\n",
    "\n",
    "#Definition du classifieur\n",
    "mnb=MultinomialNB()\n",
    "\n",
    "# Entrainement du classifieur\n",
    "mnb.fit(X_train_vect, y_train)\n",
    "\n",
    "# Observasion de la précision\n",
    "acc_test=mnb.score(X_test_vect, y_test)\n",
    "y_pred=mnb.predict(X_test_vect)\n",
    "\n",
    "print('Les préscion obtenus sont : ')\n",
    "print('données test précision:',acc_test )"
   ]
  },
  {
   "cell_type": "markdown",
   "metadata": {},
   "source": [
    "Précision de 73% avec le classifieur de naïves bayes et une représentation tf_idf "
   ]
  },
  {
   "cell_type": "code",
   "execution_count": 15,
   "metadata": {},
   "outputs": [
    {
     "name": "stdout",
     "output_type": "stream",
     "text": [
      "               precision    recall  f1-score   support\n",
      "\n",
      "Advertisement       0.73      0.67      0.70        57\n",
      "        Email       0.93      0.93      0.93       135\n",
      "         Form       0.81      0.82      0.81        88\n",
      "       Letter       0.75      0.72      0.74       122\n",
      "         Memo       0.60      0.73      0.66       109\n",
      "         News       0.69      0.74      0.71        34\n",
      "         Note       0.33      0.33      0.33        36\n",
      "       Report       0.59      0.56      0.57        48\n",
      "       Resume       1.00      1.00      1.00        15\n",
      "   Scientific       0.68      0.49      0.57        53\n",
      "\n",
      "    micro avg       0.73      0.73      0.73       697\n",
      "    macro avg       0.71      0.70      0.70       697\n",
      " weighted avg       0.73      0.73      0.73       697\n",
      "\n",
      "[[ 38   1   2   1   5   2   8   0   0   0]\n",
      " [  0 126   0   3   4   1   0   1   0   0]\n",
      " [  3   1  72   2   2   0   8   0   0   0]\n",
      " [  3   0   0  88  18   2   1   9   0   1]\n",
      " [  0   5   1  15  80   2   1   3   0   2]\n",
      " [  3   0   0   0   1  25   3   0   0   2]\n",
      " [  2   2   4   4  12   0  12   0   0   0]\n",
      " [  1   0   1   3   4   3   2  27   0   7]\n",
      " [  0   0   0   0   0   0   0   0  15   0]\n",
      " [  2   0   9   1   7   1   1   6   0  26]]\n"
     ]
    }
   ],
   "source": [
    "from sklearn.metrics import classification_report\n",
    "from sklearn.metrics import confusion_matrix\n",
    "\n",
    "label=np.unique(cont.label)\n",
    "target_names = [c for c in label ]\n",
    "print(classification_report(y_test, y_pred, target_names=target_names))\n",
    "print(confusion_matrix(y_test, y_pred, ))"
   ]
  },
  {
   "cell_type": "markdown",
   "metadata": {},
   "source": [
    "### 3-2 Classification with Neural networks"
   ]
  },
  {
   "cell_type": "code",
   "execution_count": 25,
   "metadata": {},
   "outputs": [],
   "source": [
    "import ast\n",
    "import os\n",
    "#from nn_utils import TrainingHistory\n",
    "from keras.layers import Dense, Embedding, Input\n",
    "from keras.layers import GRU, Dropout, MaxPooling1D, Conv1D, Flatten\n",
    "from keras.models import Model\n",
    "import numpy as np\n",
    "import itertools\n",
    "from keras.utils import np_utils\n",
    "from sklearn.metrics import (classification_report, \n",
    "                             precision_recall_fscore_support, \n",
    "                             accuracy_score)\n",
    "\n",
    "from keras.preprocessing import text, sequence"
   ]
  },
  {
   "cell_type": "code",
   "execution_count": 60,
   "metadata": {},
   "outputs": [],
   "source": [
    "# Model parameters\n",
    "MAX_FEATURES = 3000\n",
    "MAX_TEXT_LENGTH = 2000\n",
    "EMBED_SIZE  = 100\n",
    "BATCH_SIZE = 16\n",
    "EPOCHS = 10\n",
    "VALIDATION_SPLIT = 0.1"
   ]
  },
  {
   "cell_type": "code",
   "execution_count": 56,
   "metadata": {},
   "outputs": [],
   "source": [
    "def get_train_test(train_raw_text, test_raw_text):\n",
    "    \n",
    "    tokenizer = text.Tokenizer(num_words=MAX_FEATURES)\n",
    "\n",
    "    tokenizer.fit_on_texts(list(train_raw_text))\n",
    "    train_tokenized = tokenizer.texts_to_sequences(train_raw_text)\n",
    "    test_tokenized = tokenizer.texts_to_sequences(test_raw_text)\n",
    "    return sequence.pad_sequences(train_tokenized, maxlen=MAX_TEXT_LENGTH), \\\n",
    "           sequence.pad_sequences(test_tokenized, maxlen=MAX_TEXT_LENGTH)"
   ]
  },
  {
   "cell_type": "code",
   "execution_count": 57,
   "metadata": {},
   "outputs": [],
   "source": [
    "def get_model():\n",
    "\n",
    "    inp = Input(shape=(3000,))\n",
    "    model = Embedding(2000,100)(inp)\n",
    "    model = Dropout(0.3)(model)\n",
    "    model = Conv1D(filters=64, kernel_size=3, padding='same', activation='relu')(model)\n",
    "    model = MaxPooling1D(pool_size=2)(model)\n",
    "    model = Flatten()(model)\n",
    "    model = Dense(10, activation=\"softmax\")(model)\n",
    "    model = Model(inputs=inp, outputs=model)\n",
    "    \n",
    "    model.compile(loss='categorical_crossentropy', optimizer='adam', metrics=['accuracy'])\n",
    "    model.summary()\n",
    "    return model"
   ]
  },
  {
   "cell_type": "code",
   "execution_count": 58,
   "metadata": {},
   "outputs": [],
   "source": [
    "def train_fit_predict(model, x_train, x_test, y):\n",
    "    \n",
    "    model.fit(x_train, y,\n",
    "              batch_size=BATCH_SIZE,\n",
    "              epochs=EPOCHS, verbose=1,\n",
    "              validation_split=VALIDATION_SPLIT)\n",
    "\n",
    "    return model.predict(x_test)"
   ]
  },
  {
   "cell_type": "code",
   "execution_count": 59,
   "metadata": {},
   "outputs": [
    {
     "name": "stdout",
     "output_type": "stream",
     "text": [
      "[0 1 2 3 4 5 6 7 8 9]\n",
      "2785 697\n",
      "_________________________________________________________________\n",
      "Layer (type)                 Output Shape              Param #   \n",
      "=================================================================\n",
      "input_10 (InputLayer)        (None, 2000)              0         \n",
      "_________________________________________________________________\n",
      "embedding_10 (Embedding)     (None, 2000, 100)         200000    \n",
      "_________________________________________________________________\n",
      "dropout_10 (Dropout)         (None, 2000, 100)         0         \n",
      "_________________________________________________________________\n",
      "conv1d_10 (Conv1D)           (None, 2000, 64)          19264     \n",
      "_________________________________________________________________\n",
      "max_pooling1d_10 (MaxPooling (None, 1000, 64)          0         \n",
      "_________________________________________________________________\n",
      "flatten_10 (Flatten)         (None, 64000)             0         \n",
      "_________________________________________________________________\n",
      "dense_10 (Dense)             (None, 10)                640010    \n",
      "=================================================================\n",
      "Total params: 859,274\n",
      "Trainable params: 859,274\n",
      "Non-trainable params: 0\n",
      "_________________________________________________________________\n",
      "Epoch 1/10\n",
      "2785/2785 [==============================] - 30s 11ms/step - loss: 1.7424 - acc: 0.3512\n",
      "Epoch 2/10\n",
      "2785/2785 [==============================] - 29s 10ms/step - loss: 0.9326 - acc: 0.6675\n",
      "Epoch 3/10\n",
      "2785/2785 [==============================] - 29s 10ms/step - loss: 0.5335 - acc: 0.8169\n",
      "Epoch 4/10\n",
      "2785/2785 [==============================] - 30s 11ms/step - loss: 0.3218 - acc: 0.8987\n",
      "Epoch 5/10\n",
      "2785/2785 [==============================] - 29s 11ms/step - loss: 0.1981 - acc: 0.9447\n",
      "Epoch 6/10\n",
      "2785/2785 [==============================] - 28s 10ms/step - loss: 0.1286 - acc: 0.9691\n",
      "Epoch 7/10\n",
      "2785/2785 [==============================] - 28s 10ms/step - loss: 0.0955 - acc: 0.9752\n",
      "Epoch 8/10\n",
      "2785/2785 [==============================] - 28s 10ms/step - loss: 0.0793 - acc: 0.9803\n",
      "Epoch 9/10\n",
      "2785/2785 [==============================] - 29s 10ms/step - loss: 0.0929 - acc: 0.9734\n",
      "Epoch 10/10\n",
      "2785/2785 [==============================] - 29s 10ms/step - loss: 0.0597 - acc: 0.9842\n"
     ]
    },
    {
     "data": {
      "text/plain": [
       "<keras.callbacks.History at 0x7fa80c2c5fd0>"
      ]
     },
     "execution_count": 59,
     "metadata": {},
     "output_type": "execute_result"
    }
   ],
   "source": [
    "# Get the list of different classes\n",
    "CLASSES_LIST = np.unique(y_train)\n",
    "n_out = len(CLASSES_LIST)\n",
    "print(CLASSES_LIST)\n",
    "\n",
    "# Convert clas string to index\n",
    "from sklearn import preprocessing\n",
    "le = preprocessing.LabelEncoder()\n",
    "le.fit(CLASSES_LIST)\n",
    "y_train = le.transform(y_train) \n",
    "y_test = le.transform(y_test) \n",
    "train_y_cat = np_utils.to_categorical(y_train, n_out)\n",
    "\n",
    "# get the textual data in the correct format for NN\n",
    "x_vec_train, x_vec_test = get_train_test(X_train, X_test)\n",
    "print(len(x_vec_train), len(x_vec_test))\n",
    "\n",
    "# define the NN topology\n",
    "model = get_model()\n",
    "\n",
    "# Define training procedure\n",
    "model.fit(x=x_vec_train, y=train_y_cat, batch_size=16, epochs=10, verbose=1,)\n"
   ]
  },
  {
   "cell_type": "code",
   "execution_count": 61,
   "metadata": {},
   "outputs": [
    {
     "name": "stdout",
     "output_type": "stream",
     "text": [
      "697/697 [==============================] - 2s 3ms/step\n"
     ]
    }
   ],
   "source": [
    "test_y_cat = np_utils.to_categorical(y_test, n_out)\n",
    "score=model.evaluate(x_vec_test, test_y_cat)"
   ]
  },
  {
   "cell_type": "code",
   "execution_count": 62,
   "metadata": {},
   "outputs": [
    {
     "name": "stdout",
     "output_type": "stream",
     "text": [
      "[1.4959029675898285, 0.708751793485803]\n"
     ]
    }
   ],
   "source": [
    "print(score)"
   ]
  },
  {
   "cell_type": "code",
   "execution_count": null,
   "metadata": {},
   "outputs": [],
   "source": []
  }
 ],
 "metadata": {
  "kernelspec": {
   "display_name": "Python 3",
   "language": "python",
   "name": "python3"
  },
  "language_info": {
   "codemirror_mode": {
    "name": "ipython",
    "version": 3
   },
   "file_extension": ".py",
   "mimetype": "text/x-python",
   "name": "python",
   "nbconvert_exporter": "python",
   "pygments_lexer": "ipython3",
   "version": "3.6.5"
  }
 },
 "nbformat": 4,
 "nbformat_minor": 2
}
