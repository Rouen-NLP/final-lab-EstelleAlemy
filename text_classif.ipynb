{
 "cells": [
  {
   "cell_type": "markdown",
   "metadata": {},
   "source": [
    "# Classification des documents du procès des groupes américains du tabac"
   ]
  },
  {
   "cell_type": "code",
   "execution_count": 1,
   "metadata": {},
   "outputs": [],
   "source": [
    "import pandas as pd"
   ]
  },
  {
   "cell_type": "code",
   "execution_count": 3,
   "metadata": {},
   "outputs": [],
   "source": [
    "df=pd.read_csv(\"data/tobacco-lab_data_Tobacco3482.csv\")"
   ]
  },
  {
   "cell_type": "markdown",
   "metadata": {},
   "source": [
    "### Analise des données"
   ]
  },
  {
   "cell_type": "code",
   "execution_count": 9,
   "metadata": {
    "scrolled": true
   },
   "outputs": [
    {
     "data": {
      "text/plain": [
       "<matplotlib.axes._subplots.AxesSubplot at 0x7f76d7770b00>"
      ]
     },
     "execution_count": 9,
     "metadata": {},
     "output_type": "execute_result"
    },
    {
     "data": {
      "image/png": "[encoded data removed]",
      "text/plain": [
       "<Figure size 432x288 with 1 Axes>"
      ]
     },
     "metadata": {
      "needs_background": "light"
     },
     "output_type": "display_data"
    }
   ],
   "source": [
    "import seaborn as sns\n",
    "%matplotlib inline\n",
    "\n",
    "# Plot the statistics of each label\n",
    "sns.countplot(data=df,y='label')"
   ]
  },
  {
   "cell_type": "code",
   "execution_count": 15,
   "metadata": {},
   "outputs": [
    {
     "name": "stdout",
     "output_type": "stream",
     "text": [
      "Advertisement/0000136188.\n"
     ]
    }
   ],
   "source": [
    "print(df.img_path[0][:-3])"
   ]
  },
  {
   "cell_type": "code",
   "execution_count": 54,
   "metadata": {},
   "outputs": [],
   "source": [
    "import numpy as np\n",
    "# accéder au text\n",
    "path='data/Tobacco3482-OCR/'+str(df.img_path[0][:-3])+'txt'\n",
    "\n",
    "with open(path) as myfile:\n",
    "    content = myfile.readlines()"
   ]
  },
  {
   "cell_type": "code",
   "execution_count": 59,
   "metadata": {},
   "outputs": [],
   "source": [
    "text=[]\n",
    "label=[]\n",
    "for i in range(df.shape[0]):\n",
    "    path=path='data/Tobacco3482-OCR/'+str(df.img_path[i][:-3])+'txt'\n",
    "    with open(path) as myfile:\n",
    "        content = myfile.readlines()\n",
    "    text.append(content)\n",
    "    label.append(df.label[i])"
   ]
  },
  {
   "cell_type": "code",
   "execution_count": 63,
   "metadata": {},
   "outputs": [],
   "source": [
    "cont=pd.DataFrame({'text':text, 'label':label})"
   ]
  },
  {
   "cell_type": "code",
   "execution_count": 67,
   "metadata": {},
   "outputs": [
    {
     "name": "stdout",
     "output_type": "stream",
     "text": [
      "                                                   text          label\n",
      "0     [A Mpertant as yar\\n, sesiye teaetered cabiiee...  Advertisement\n",
      "1     [TE che fitm\\n, \\n, m66400 7127\\n, \\n, KOOLS a...  Advertisement\n",
      "2     [so ARN Rr nr\\n, \\n, BWR Ga ||\\n, \\n, Vending ...  Advertisement\n",
      "3     [MARCH 24,19 VO — 3. Tersrearep\\n, \\n,  \\n, \\n...  Advertisement\n",
      "4     [~\\n, \\n, Spend a milder moment qs\\n, with Ral...  Advertisement\n",
      "5     [SR Onrel ules cee\\n, Nee dss\\n, \\n, The one t...  Advertisement\n",
      "6     [&\\n, BR. :\\n, er non\\n, \\n, be 4\\n, op Re eo ...  Advertisement\n",
      "7     [{ae} BUIseaUT OY |\\n, --uoanyf{sanosdun |.\\n,...  Advertisement\n",
      "8     [. “So that’s he\\n, any newspapel\\n, “That's h...  Advertisement\n",
      "9     [BROWN & “WILLIAM ON:\\n, \\n, ;, mY To Man\\n, \\...  Advertisement\n",
      "10    [BSI OI4¥O\\n, \\n, \" GdOMOUS S4OUIZ LUD BUS\\n, ...  Advertisement\n",
      "11    [DRAFT ADVERTISEMENT\\n, \\n, that without the e...  Advertisement\n",
      "12    [Another development from\\n, Lorillard Researc...  Advertisement\n",
      "13    [IMAGE\\n, NOT\\n, AVAILABLE\\n, \\n, ONLINE\\n, \\n...  Advertisement\n",
      "14    [.\\n, tow\\n, \\n, ok .\\n, st gear:\\n, \\n, were ...  Advertisement\n",
      "15    [- 4 lovap moan... o-fot of cigarette\\n, \\n, “...  Advertisement\n",
      "16    [| “4° LEO BURNETT COMPANY, Inc. . ee aS\\n, \\n...  Advertisement\n",
      "17    [_ OIOQERAI\\n, \\n, x0g 40 yood\\n, , ‘soapy\\n, ...  Advertisement\n",
      "18    [De teadiied\\n, \\n, q > wR,\\n, \\n, ee new blen...  Advertisement\n",
      "19    [.\\n, \\n, ae\\n, \\n, Tea a ry\\n, ‘to-the miount...  Advertisement\n",
      "20    [“a\\n, \\n, 1005116329\\n, \\n, bw\\n, vices,\\n, \\...  Advertisement\n",
      "21    [apes aren 1005150029 |\\n, \\n,  \\n, \\n,       ...  Advertisement\n",
      "22    [exmeir & CMrcaaine VETSON) “AL'S BACK T\\n, \\n...  Advertisement\n",
      "23    [SURGEON GENERAL'S WARN\\n, \\n, E\\n, \\n, mphyse...  Advertisement\n",
      "24    [980261747\\n, \\n, oA Re thtte dwelt ¥\\n, \\n, P...  Advertisement\n",
      "25    [Rest RES\\n, MR\\n, \\n, PeTUC See eRe SUB Lem e...  Advertisement\n",
      "26    [SMOKING SHOULD Not Br\\n, A Part OF GRowinGc U...  Advertisement\n",
      "27         [COFFEE\\n, \\n, DID\\n, IT.\\n, \\n, O9E980f202]  Advertisement\n",
      "28    [dgpssgae\\n, \\n, ae\\n, \\n, 2023738160\\n, \\n, A...  Advertisement\n",
      "29    [HERE'S WHAT'S NOV\\n, BEING SAID ABOUT\\n, OTHE...  Advertisement\n",
      "...                                                 ...            ...\n",
      "3452  [Hari Manev, M.D., Ph.D.:. NICOTINIC SIGNALING...     Scientific\n",
      "3453  [HKS2191064\\n, \\n, THE EFFECT OF TDSPARIN ON T...     Scientific\n",
      "3454  [fe . ~\\n, \\n, oo eat?\\n, \\n, ISSUES “CONFRONT...     Scientific\n",
      "3455  [*\\n, \\n, ‘roc. Natl Acad Sc: USA\\n, ‘Gh 94, p...     Scientific\n",
      "3456  [vo\\n, \\n,  \\n, \\n, - ferons l'objet d’une pro...     Scientific\n",
      "3457  [Copyright, 1950, by the Socicty for Experimen...     Scientific\n",
      "3458  [“mae:\\n, \\n, Necropsy included the examinatio...     Scientific\n",
      "3459  [A AND B COMPAI\\n, FILE }\\n, \\n, 0 RESULTS: SU...     Scientific\n",
      "3460  [November 5, 1996\\n, \\n, A Review of:\\n, \\n, D...     Scientific\n",
      "3461  [Grant 1127-aR1\\n, \\n, fe\\n, \\n, Herbert Y¥. R...     Scientific\n",
      "3462  [wenn ee ee\\n, \\n,  \\n, \\n, FINAL REPORT AMEND...     Scientific\n",
      "3463  [QUALITY ASSURANCE STATEMENT\\n, \\n, Se ‘Study ...     Scientific\n",
      "3464  [HAZLETON LABORATORIES\\n, \\n, @ wosidtary of E...     Scientific\n",
      "3465  [. 400 TRESS MESA USERS RY\\n, \\n,  \\n, \\n, HPL...     Scientific\n",
      "3466  [ANETHOLE\\n, \\n, TOXICITY PROFILE\\n, \\n, Aneth...     Scientific\n",
      "3467  [BORRISTON\\n, \\n, LABORATORIES, INC,\\n, \\n, IN...     Scientific\n",
      "3468  [BOR M2 ISTO\\n, \\n, LABORATORIES, INC.\\n, \\n, ...     Scientific\n",
      "3469  [BORRISTON\\n, \\n, _ LABORATORIES, INC.\\n, \\n, ...     Scientific\n",
      "3470  [RESEARCH AND DEVELOPMENT PROJECT STATUS REPOR...     Scientific\n",
      "3471  [ponte tat\\n, \\n, B626 H176£ P Sas\\n, wean JJ\\...     Scientific\n",
      "3472  [3 Clin Epidemiol Vol. 43, No. 4, pp. 339-347,...     Scientific\n",
      "3473  [Bf). yas- 737 fet /970\\n, \\n, Cre part)\\n, \\n...     Scientific\n",
      "3474  [(\\n, \\n, Serum Proteins and Proteiri Electrep...     Scientific\n",
      "3475  [Reprinted from Tre Jourwat of Cuinicat Invest...     Scientific\n",
      "3476  [Ctr Acknowledged\\n, \\n, 370 D. B. Cohen.\\n, \\...     Scientific\n",
      "3477  [Brochem. J. £1987) 244. 69-74 (Printed m Grea...     Scientific\n",
      "3478  [a VIROLOGY 184, 117-130 (1991}\\n, \\n, rite co...     Scientific\n",
      "3479  [W022 TGF AT 1 19a V9RRADD DO oO\\n, THE Jor en...     Scientific\n",
      "3480  [a\\n, \\n, - 1990 ANNUAL REPOR)\\n, \\n, -_, Carc...     Scientific\n",
      "3481  [po Jou: oF SaoLocecal CHMEITET\\n, leeT py The...     Scientific\n",
      "\n",
      "[3482 rows x 2 columns]\n"
     ]
    }
   ],
   "source": [
    "print(cont)"
   ]
  },
  {
   "cell_type": "code",
   "execution_count": null,
   "metadata": {},
   "outputs": [],
   "source": [
    "## Classification"
   ]
  }
 ],
 "metadata": {
  "kernelspec": {
   "display_name": "Python 3",
   "language": "python",
   "name": "python3"
  },
  "language_info": {
   "codemirror_mode": {
    "name": "ipython",
    "version": 3
   },
   "file_extension": ".py",
   "mimetype": "text/x-python",
   "name": "python",
   "nbconvert_exporter": "python",
   "pygments_lexer": "ipython3",
   "version": "3.6.5"
  }
 },
 "nbformat": 4,
 "nbformat_minor": 2
}
