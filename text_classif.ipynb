{
 "cells": [
  {
   "cell_type": "markdown",
   "metadata": {},
   "source": [
    "# Classification des documents du procès des groupes américains du tabac"
   ]
  },
  {
   "cell_type": "code",
   "execution_count": 1,
   "metadata": {},
   "outputs": [],
   "source": [
    "#Listes des imports\n",
    "import pandas as pd\n",
    "import numpy as np\n",
    "from sklearn.model_selection import train_test_split\n",
    "from sklearn.feature_extraction.text import CountVectorizer, TfidfTransformer\n",
    "from sklearn import preprocessing\n",
    "import seaborn as sns"
   ]
  },
  {
   "cell_type": "markdown",
   "metadata": {},
   "source": [
    "## 1- Analyse  des données"
   ]
  },
  {
   "cell_type": "code",
   "execution_count": 2,
   "metadata": {},
   "outputs": [
    {
     "name": "stdout",
     "output_type": "stream",
     "text": [
      "                       img_path          label\n",
      "0  Advertisement/0000136188.jpg  Advertisement\n",
      "1  Advertisement/0000435350.jpg  Advertisement\n",
      "2  Advertisement/0000556056.jpg  Advertisement\n",
      "3  Advertisement/0030048095.jpg  Advertisement\n",
      "4  Advertisement/0030048989.jpg  Advertisement\n",
      "5  Advertisement/0030049569.jpg  Advertisement\n",
      "6    Advertisement/03496270.jpg  Advertisement\n",
      "7    Advertisement/03567810.jpg  Advertisement\n",
      "8    Advertisement/03722789.jpg  Advertisement\n",
      "9    Advertisement/04102204.jpg  Advertisement\n"
     ]
    }
   ],
   "source": [
    "# Chargement du fichier text (affichage des 10 premier résultats)\n",
    "df=pd.read_csv(\"data/tobacco-lab_data_Tobacco3482.csv\") \n",
    "print(df[:10])"
   ]
  },
  {
   "cell_type": "markdown",
   "metadata": {},
   "source": [
    "Le fichier contient le pas vers l'image à associer dans la colonne *\"img_path\"* et sa classe dans la colonne *\"label\"*."
   ]
  },
  {
   "cell_type": "code",
   "execution_count": 3,
   "metadata": {
    "scrolled": true
   },
   "outputs": [
    {
     "name": "stdout",
     "output_type": "stream",
     "text": [
      "number of data : 3482\n"
     ]
    },
    {
     "data": {
      "image/png": "[encoded data removed]",
      "text/plain": [
       "<Figure size 432x288 with 1 Axes>"
      ]
     },
     "metadata": {
      "needs_background": "light"
     },
     "output_type": "display_data"
    }
   ],
   "source": [
    "# Plot the statistics of each label\n",
    "sns.countplot(data=df,y='label')\n",
    "print('number of data :', df.shape[0])"
   ]
  },
  {
   "cell_type": "code",
   "execution_count": 6,
   "metadata": {},
   "outputs": [
    {
     "name": "stdout",
     "output_type": "stream",
     "text": [
      "['A Mpertant as yar', 'sesiye teaetered cabiieess. Baely', '', 'doesn’) keow bea te', 'Bitton Aau-Fotne bl resin syste. Cant']\n",
      "['Advertisement' 'Email' 'Form' 'Letter' 'Memo' 'News' 'Note' 'Report'\n",
      " 'Resume' 'Scientific']\n"
     ]
    }
   ],
   "source": [
    "# On extrait le texte des fichiers et l'on stocke chaque texte dans une liste text\n",
    "# On stocke les label de chaque text dans une liste label\n",
    "label=[]\n",
    "text=[]\n",
    "for i in range(df.shape[0]):\n",
    "    path=path='data/Tobacco3482-OCR/'+str(df.img_path[i][:-3])+'txt'\n",
    "    with open(path) as myfile:\n",
    "        content = myfile.readlines()\n",
    "        for j,e in enumerate(content):\n",
    "            #retrait des /n pour une meilleurs lisibilité et augmente les performances\n",
    "            content[j]=e.rstrip(\"\\n\")\n",
    "    text.append(content)\n",
    "    label.append(df.label[i])\n",
    "print(text[0][:5])\n",
    "print(np.unique(label))"
   ]
  },
  {
   "cell_type": "code",
   "execution_count": 7,
   "metadata": {},
   "outputs": [
    {
     "name": "stdout",
     "output_type": "stream",
     "text": [
      "                                                text          label\n",
      "0  [A Mpertant as yar, sesiye teaetered cabiieess...  Advertisement\n",
      "1  [TE che fitm, , m66400 7127, , KOOLS are the o...  Advertisement\n",
      "2  [so ARN Rr nr, , BWR Ga ||, , Vending Operator...  Advertisement\n",
      "3  [MARCH 24,19 VO — 3. Tersrearep, ,  , , ‘ yi i...  Advertisement\n",
      "4  [~, , Spend a milder moment qs, with Raleigh.,...  Advertisement\n",
      "(3482, 2)\n"
     ]
    }
   ],
   "source": [
    "# création d'un dataframe contenant chaque test et les labels associés\n",
    "cont=pd.DataFrame({'text':text, 'label':label})\n",
    "print(cont[:5])\n",
    "print(cont.shape)"
   ]
  },
  {
   "cell_type": "code",
   "execution_count": 8,
   "metadata": {},
   "outputs": [
    {
     "name": "stdout",
     "output_type": "stream",
     "text": [
      "                                                text          label\n",
      "0  A Mpertant as yar sesiye teaetered cabiieess. ...  Advertisement\n",
      "1  TE che fitm  m66400 7127  KOOLS are the only c...  Advertisement\n",
      "2  so ARN Rr nr  BWR Ga ||  Vending Operators    ...  Advertisement\n",
      "3  MARCH 24,19 VO — 3. Tersrearep     ‘ yi ills :...  Advertisement\n",
      "4  ~  Spend a milder moment qs with Raleigh.  = A...  Advertisement\n"
     ]
    }
   ],
   "source": [
    "# Texte ci-dessus stocker sous forme de séquences de mots\n",
    "# faire de text un text et non une sequence de mot\n",
    "cont['text']=[\" \".join(text) for text in cont['text'].values]\n",
    "print(cont[:5])"
   ]
  },
  {
   "cell_type": "markdown",
   "metadata": {},
   "source": [
    "## 2- Traitement des données"
   ]
  },
  {
   "cell_type": "markdown",
   "metadata": {},
   "source": [
    "### 2-1 Transformation en sac de mots"
   ]
  },
  {
   "cell_type": "code",
   "execution_count": 9,
   "metadata": {},
   "outputs": [
    {
     "name": "stdout",
     "output_type": "stream",
     "text": [
      "nb exemple apprentissage : (2785,)\n",
      "nb exemple de test: (697,)\n"
     ]
    }
   ],
   "source": [
    "#Séparation des données en ensemble de test et d'apprentissage\n",
    "X_train,X_test, y_train,y_test = train_test_split(cont.text, cont.label, test_size=0.20, \n",
    "                                                random_state=42)\n",
    "print('nb exemple apprentissage :' ,X_train.shape)\n",
    "print('nb exemple de test:', X_test.shape)\n"
   ]
  },
  {
   "cell_type": "code",
   "execution_count": 10,
   "metadata": {},
   "outputs": [
    {
     "name": "stdout",
     "output_type": "stream",
     "text": [
      "(697, 3000)\n"
     ]
    }
   ],
   "source": [
    "# Vectorisation\n",
    "vectorizer = CountVectorizer(max_features=3000)\n",
    "vectorizer.fit(X_train)\n",
    "X_train_vect = vectorizer.transform(X_train)\n",
    "X_test_vect= vectorizer.transform(X_test)\n",
    "\n",
    "print(X_test_vect.shape)"
   ]
  },
  {
   "cell_type": "markdown",
   "metadata": {},
   "source": [
    "### 2.2 Représentation tf idf "
   ]
  },
  {
   "cell_type": "code",
   "execution_count": 11,
   "metadata": {},
   "outputs": [],
   "source": [
    "# Représentation TF_IDF\n",
    "tf_transformer = TfidfTransformer().fit(X_train_vect)\n",
    "\n",
    "# transformation tf-idf des ensemble train, dev et test\n",
    "X_train_tf = tf_transformer.transform(X_train_vect)\n",
    "X_test_tf = tf_transformer.transform(X_test_vect)\n"
   ]
  },
  {
   "cell_type": "markdown",
   "metadata": {},
   "source": [
    "## 3- Classification"
   ]
  },
  {
   "cell_type": "markdown",
   "metadata": {},
   "source": [
    "### 3-1 Classifieur naives bayes"
   ]
  },
  {
   "cell_type": "code",
   "execution_count": 19,
   "metadata": {},
   "outputs": [
    {
     "name": "stdout",
     "output_type": "stream",
     "text": [
      "la précision obtenus sur les données de test est : 0.7302725968436155 \n",
      "\n",
      "Les valeur de précision, recall et fscore obtenus par rapport à chaque classes sont : \n",
      "               precision    recall  f1-score   support\n",
      "\n",
      "Advertisement       0.73      0.67      0.70        57\n",
      "        Email       0.93      0.93      0.93       135\n",
      "         Form       0.81      0.82      0.81        88\n",
      "       Letter       0.75      0.72      0.74       122\n",
      "         Memo       0.60      0.73      0.66       109\n",
      "         News       0.69      0.74      0.71        34\n",
      "         Note       0.33      0.33      0.33        36\n",
      "       Report       0.59      0.56      0.57        48\n",
      "       Resume       1.00      1.00      1.00        15\n",
      "   Scientific       0.68      0.49      0.57        53\n",
      "\n",
      "    micro avg       0.73      0.73      0.73       697\n",
      "    macro avg       0.71      0.70      0.70       697\n",
      " weighted avg       0.73      0.73      0.73       697\n",
      "\n",
      "confusion_matrix : \n",
      " [[ 38   1   2   1   5   2   8   0   0   0]\n",
      " [  0 126   0   3   4   1   0   1   0   0]\n",
      " [  3   1  72   2   2   0   8   0   0   0]\n",
      " [  3   0   0  88  18   2   1   9   0   1]\n",
      " [  0   5   1  15  80   2   1   3   0   2]\n",
      " [  3   0   0   0   1  25   3   0   0   2]\n",
      " [  2   2   4   4  12   0  12   0   0   0]\n",
      " [  1   0   1   3   4   3   2  27   0   7]\n",
      " [  0   0   0   0   0   0   0   0  15   0]\n",
      " [  2   0   9   1   7   1   1   6   0  26]]\n"
     ]
    }
   ],
   "source": [
    "# Entrainement avec un classifieur naif multinomial\n",
    "# train a Naive Bayes classifier\n",
    "from sklearn.naive_bayes import MultinomialNB\n",
    "from sklearn.metrics import classification_report\n",
    "from sklearn.metrics import confusion_matrix\n",
    "\n",
    "#Definition du classifieur\n",
    "mnb=MultinomialNB()\n",
    "\n",
    "# Entrainement du classifieur\n",
    "mnb.fit(X_train_vect, y_train)\n",
    "\n",
    "# Observasion de la précision\n",
    "acc_test=mnb.score(X_test_vect, y_test)\n",
    "y_pred=mnb.predict(X_test_vect)\n",
    "\n",
    "print('la précision obtenus sur les données de test est :',acc_test,'\\n' )\n",
    "\n",
    "print('Les valeur de précision, recall et fscore obtenus par rapport à chaque classes sont : ')\n",
    "\n",
    "\n",
    "label=np.unique(cont.label)\n",
    "target_names = [c for c in label ]\n",
    "print(classification_report(y_test, y_pred, target_names=target_names))\n",
    "print('confusion_matrix : \\n',confusion_matrix(y_test, y_pred, ))"
   ]
  },
  {
   "cell_type": "markdown",
   "metadata": {},
   "source": [
    "Précision de 73% avec le classifieur de naïves bayes et une représentation tf_idf "
   ]
  },
  {
   "cell_type": "markdown",
   "metadata": {},
   "source": [
    "### 3-2 Classification with Neural networks"
   ]
  },
  {
   "cell_type": "code",
   "execution_count": 32,
   "metadata": {},
   "outputs": [],
   "source": [
    "import ast\n",
    "import os\n",
    "#from nn_utils import TrainingHistory\n",
    "from keras.layers import Dense, Embedding, Input\n",
    "from keras.layers import GRU, Dropout, MaxPooling1D, Conv1D, Flatten, LSTM\n",
    "from keras.models import Model\n",
    "import numpy as np\n",
    "import itertools\n",
    "from keras.utils import np_utils\n",
    "from sklearn.metrics import (classification_report, \n",
    "                             precision_recall_fscore_support, \n",
    "                             accuracy_score)\n",
    "\n",
    "from keras.preprocessing import text, sequence"
   ]
  },
  {
   "cell_type": "code",
   "execution_count": 33,
   "metadata": {},
   "outputs": [],
   "source": [
    "# Model parameters\n",
    "MAX_FEATURES = 2000\n",
    "MAX_TEXT_LENGTH = 2000\n",
    "EMBED_SIZE  = 100\n",
    "BATCH_SIZE = 16\n",
    "EPOCHS = 30\n",
    "VALIDATION_SPLIT = 0.1"
   ]
  },
  {
   "cell_type": "code",
   "execution_count": 34,
   "metadata": {},
   "outputs": [
    {
     "name": "stdout",
     "output_type": "stream",
     "text": [
      "nb exemple apprentissage : (3133,)\n",
      "nb exemple de test: (349,)\n"
     ]
    }
   ],
   "source": [
    "#séparation en ensemble test apprentissage\n",
    "X_train,X_test, y_train,y_test = train_test_split(cont.text, cont.label, test_size=0.10, \n",
    "                                                random_state=42)\n",
    "print('nb exemple apprentissage :' ,X_train.shape)\n",
    "print('nb exemple de test:', X_test.shape)\n",
    "\n",
    "def get_train_test(train_raw_text, test_raw_text):\n",
    "    \n",
    "    tokenizer = text.Tokenizer(num_words=MAX_FEATURES)\n",
    "\n",
    "    tokenizer.fit_on_texts(list(train_raw_text))\n",
    "    train_tokenized = tokenizer.texts_to_sequences(train_raw_text)\n",
    "    test_tokenized = tokenizer.texts_to_sequences(test_raw_text)\n",
    "    return sequence.pad_sequences(train_tokenized, maxlen=MAX_TEXT_LENGTH), \\\n",
    "           sequence.pad_sequences(test_tokenized, maxlen=MAX_TEXT_LENGTH)"
   ]
  },
  {
   "cell_type": "code",
   "execution_count": 35,
   "metadata": {},
   "outputs": [],
   "source": [
    "def get_model():\n",
    "\n",
    "    inp = Input(shape=(MAX_TEXT_LENGTH,))\n",
    "    model = Embedding(MAX_TEXT_LENGTH,EMBED_SIZE)(inp)\n",
    "    model = Dropout(0.3)(model)\n",
    "    model = Conv1D(filters=64, kernel_size=3, padding='same', activation='relu')(model)\n",
    "    model = MaxPooling1D(pool_size=2)(model)\n",
    "    model = Flatten()(model)\n",
    "    model = Dense(10, activation=\"softmax\")(model)\n",
    "    model = Model(inputs=inp, outputs=model)\n",
    "    \n",
    "    model.compile(loss='categorical_crossentropy', optimizer='adam', metrics=['accuracy'])\n",
    "    model.summary()\n",
    "    return model\n",
    "\n",
    "def model_2():\n",
    "    inp = Input(shape=(MAX_TEXT_LENGTH,))\n",
    "    model = Embedding(MAX_TEXT_LENGTH,EMBED_SIZE)(inp)\n",
    "    model = Dropout(0.3)(model)\n",
    "    model = Conv1D(filters=32, kernel_size=5, padding='same', activation='relu')(model)\n",
    "    model = MaxPooling1D(pool_size=4)(model)\n",
    "    \n",
    "    model = Dropout(0.25)(model)\n",
    "    model = LSTM(100)(model)\n",
    "    model = Dense(10, activation=\"softmax\")(model)\n",
    "    model = Model(inputs=inp, outputs=model)\n",
    "    \n",
    "    model.compile(loss='categorical_crossentropy', optimizer='adam', metrics=['accuracy'])\n",
    "    model.summary()\n",
    "    return model\n"
   ]
  },
  {
   "cell_type": "code",
   "execution_count": 36,
   "metadata": {},
   "outputs": [],
   "source": [
    "def train_fit_predict(model, x_train, x_test, y):\n",
    "    \n",
    "    model.fit(x_train, y,\n",
    "              batch_size=BATCH_SIZE,\n",
    "              epochs=EPOCHS, verbose=1,\n",
    "              validation_split=VALIDATION_SPLIT)\n",
    "\n",
    "    return model.predict(x_test)"
   ]
  },
  {
   "cell_type": "code",
   "execution_count": 37,
   "metadata": {},
   "outputs": [
    {
     "name": "stdout",
     "output_type": "stream",
     "text": [
      "['Advertisement' 'Email' 'Form' 'Letter' 'Memo' 'News' 'Note' 'Report'\n",
      " 'Resume' 'Scientific']\n",
      "3133 349\n",
      "_________________________________________________________________\n",
      "Layer (type)                 Output Shape              Param #   \n",
      "=================================================================\n",
      "input_2 (InputLayer)         (None, 2000)              0         \n",
      "_________________________________________________________________\n",
      "embedding_2 (Embedding)      (None, 2000, 100)         200000    \n",
      "_________________________________________________________________\n",
      "dropout_3 (Dropout)          (None, 2000, 100)         0         \n",
      "_________________________________________________________________\n",
      "conv1d_2 (Conv1D)            (None, 2000, 32)          16032     \n",
      "_________________________________________________________________\n",
      "max_pooling1d_2 (MaxPooling1 (None, 500, 32)           0         \n",
      "_________________________________________________________________\n",
      "dropout_4 (Dropout)          (None, 500, 32)           0         \n",
      "_________________________________________________________________\n",
      "lstm_2 (LSTM)                (None, 100)               53200     \n",
      "_________________________________________________________________\n",
      "dense_2 (Dense)              (None, 10)                1010      \n",
      "=================================================================\n",
      "Total params: 270,242\n",
      "Trainable params: 270,242\n",
      "Non-trainable params: 0\n",
      "_________________________________________________________________\n"
     ]
    }
   ],
   "source": [
    "# Get the list of different classes\n",
    "CLASSES_LIST = np.unique(y_train)\n",
    "n_out = len(CLASSES_LIST)\n",
    "print(CLASSES_LIST)\n",
    "\n",
    "# Convert class string to index\n",
    "from sklearn import preprocessing\n",
    "le = preprocessing.LabelEncoder()\n",
    "le.fit(CLASSES_LIST)\n",
    "y_train = le.transform(y_train) \n",
    "y_test = le.transform(y_test) \n",
    "train_y_cat = np_utils.to_categorical(y_train, n_out)\n",
    "\n",
    "# get the textual data in the correct format for NN\n",
    "x_vec_train, x_vec_test = get_train_test(X_train, X_test)\n",
    "print(len(x_vec_train), len(x_vec_test))\n",
    "\n",
    "# define the NN topology\n",
    "model = model_2()\n",
    "\n",
    "# Define training procedure\n",
    "#model.fit(x=x_vec_train, y=train_y_cat, batch_size=16, epochs=10, verbose=1,)\n"
   ]
  },
  {
   "cell_type": "code",
   "execution_count": 38,
   "metadata": {},
   "outputs": [],
   "source": [
    "#test_y_cat = np_utils.to_categorical(y_test, n_out)\n",
    "#score=model.evaluate(x_vec_test, test_y_cat)\n",
    "#print(score)"
   ]
  },
  {
   "cell_type": "code",
   "execution_count": null,
   "metadata": {},
   "outputs": [
    {
     "name": "stdout",
     "output_type": "stream",
     "text": [
      "Train on 2819 samples, validate on 314 samples\n",
      "Epoch 1/30\n",
      "2819/2819 [==============================] - 86s 30ms/step - loss: 1.8465 - acc: 0.3047 - val_loss: 1.4846 - val_acc: 0.4140\n",
      "Epoch 2/30\n",
      "2819/2819 [==============================] - 82s 29ms/step - loss: 1.1940 - acc: 0.5385 - val_loss: 1.2776 - val_acc: 0.5032\n",
      "Epoch 3/30\n",
      "2819/2819 [==============================] - 84s 30ms/step - loss: 0.9508 - acc: 0.6481 - val_loss: 1.0472 - val_acc: 0.6083\n",
      "Epoch 4/30\n",
      "2819/2819 [==============================] - 83s 30ms/step - loss: 0.8089 - acc: 0.7024 - val_loss: 1.0243 - val_acc: 0.6529\n",
      "Epoch 5/30\n",
      "2819/2819 [==============================] - 82s 29ms/step - loss: 0.6469 - acc: 0.7708 - val_loss: 0.9559 - val_acc: 0.6783\n",
      "Epoch 6/30\n",
      "2819/2819 [==============================] - 82s 29ms/step - loss: 0.5598 - acc: 0.8092 - val_loss: 0.8648 - val_acc: 0.7197\n",
      "Epoch 7/30\n",
      "2819/2819 [==============================] - 84s 30ms/step - loss: 0.4798 - acc: 0.8354 - val_loss: 1.1514 - val_acc: 0.6433\n",
      "Epoch 8/30\n",
      "2819/2819 [==============================] - 84s 30ms/step - loss: 0.4361 - acc: 0.8531 - val_loss: 1.0817 - val_acc: 0.6720\n",
      "Epoch 9/30\n",
      "2800/2819 [============================>.] - ETA: 0s - loss: 0.3487 - acc: 0.8911"
     ]
    }
   ],
   "source": [
    "y_predicted=train_fit_predict(model, x_vec_train, x_vec_test, train_y_cat)"
   ]
  },
  {
   "cell_type": "code",
   "execution_count": 29,
   "metadata": {},
   "outputs": [],
   "source": [
    "# From proba get a prediction\n",
    "# We chose the class with the maximum proba\n",
    "y_pred=[]\n",
    "for i in range(len(y_test)):\n",
    "    y_pred.append(np.argmax(y_predicted[i]))"
   ]
  },
  {
   "cell_type": "code",
   "execution_count": 30,
   "metadata": {},
   "outputs": [],
   "source": [
    "y_pred=np.asarray(y_pred)"
   ]
  },
  {
   "cell_type": "code",
   "execution_count": 31,
   "metadata": {},
   "outputs": [
    {
     "name": "stdout",
     "output_type": "stream",
     "text": [
      "Test Accuracy: 0.7374461979913917\n",
      "p r f1:  73.7 73.74 73.745\n",
      "              precision    recall  f1-score   support\n",
      "\n",
      "           0       0.73      0.53      0.61        57\n",
      "           1       0.99      0.91      0.95       135\n",
      "           2       0.73      0.78      0.76        88\n",
      "           3       0.77      0.75      0.76       122\n",
      "           4       0.71      0.86      0.78       109\n",
      "           5       0.80      0.71      0.75        34\n",
      "           6       0.44      0.67      0.53        36\n",
      "           7       0.42      0.46      0.44        48\n",
      "           8       0.94      1.00      0.97        15\n",
      "           9       0.63      0.42      0.50        53\n",
      "\n",
      "   micro avg       0.74      0.74      0.74       697\n",
      "   macro avg       0.72      0.71      0.70       697\n",
      "weighted avg       0.75      0.74      0.74       697\n",
      "\n"
     ]
    }
   ],
   "source": [
    "print(\"Test Accuracy:\", accuracy_score(y_test, y_pred))\n",
    "\n",
    "p, r, f1, s = precision_recall_fscore_support(y_test, y_pred, \n",
    "                                              average='micro',\n",
    "                                              labels=[x for x in \n",
    "                                                      np.unique(y_train) \n",
    "                                                      if x not in ['CSDECMOTV']])\n",
    "\n",
    "print('p r f1:  %.1f %.2f %.3f' % (np.average(p, weights=s)*100.0, \n",
    "                                 np.average(r, weights=s)*100.0, \n",
    "                                 np.average(f1, weights=s)*100.0))\n",
    "\n",
    "\n",
    "print(classification_report(y_test, y_pred, labels=[x for x in \n",
    "                                                       np.unique(y_train) \n",
    "                                                       if x not in ['CSDECMOTV']]))"
   ]
  },
  {
   "cell_type": "code",
   "execution_count": null,
   "metadata": {},
   "outputs": [],
   "source": []
  }
 ],
 "metadata": {
  "kernelspec": {
   "display_name": "Python 3",
   "language": "python",
   "name": "python3"
  },
  "language_info": {
   "codemirror_mode": {
    "name": "ipython",
    "version": 3
   },
   "file_extension": ".py",
   "mimetype": "text/x-python",
   "name": "python",
   "nbconvert_exporter": "python",
   "pygments_lexer": "ipython3",
   "version": "3.6.5"
  }
 },
 "nbformat": 4,
 "nbformat_minor": 2
}
